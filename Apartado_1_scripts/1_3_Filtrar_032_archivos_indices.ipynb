{
 "cells": [
  {
   "cell_type": "markdown",
   "metadata": {
    "colab_type": "text",
    "id": "O56BSR7I6I8L"
   },
   "source": [
    "\n",
    "## GENERAR ARCHIVOS INDICES\n"
   ]
  },
  {
   "cell_type": "markdown",
   "metadata": {
    "colab_type": "text",
    "id": "Z2KexOGg6I8O"
   },
   "source": [
    "Este script permite la generación de ficheros que contienen el número de línea de aquellos segmentos de los archivos \"posterior_state_9_chr\" en los que la diferencia de probabilidades entre el estado E9 y el segundo estado más probable es superior a 0.32. "
   ]
  },
  {
   "cell_type": "code",
   "execution_count": 0,
   "metadata": {
    "colab": {},
    "colab_type": "code",
    "id": "jz1oN4b46I8R"
   },
   "outputs": [],
   "source": [
    "# Importación de los paquetes necesarios\n",
    "import numpy as np\n",
    "import matplotlib.pyplot as plt\n",
    "import heapq"
   ]
  },
  {
   "cell_type": "code",
   "execution_count": 0,
   "metadata": {
    "colab": {},
    "colab_type": "code",
    "id": "uH_3tjt96I8l"
   },
   "outputs": [],
   "source": [
    "# Generación de las listas \"c_types\" y \"chroms\" que contienen el número\n",
    "# del replicado y el número del cromosoma respectivamente para la posterior\n",
    "# realización de un bucle que permita acceder a todos los archivos de tipo\n",
    "# \"posterior_state_9\".\n",
    "c_types = [1, 2]\n",
    "chroms = list(range(1,23))\n",
    "chroms.append(\"X\")\n",
    "chroms.append(\"M\")"
   ]
  },
  {
   "cell_type": "code",
   "execution_count": 0,
   "metadata": {
    "colab": {},
    "colab_type": "code",
    "id": "2sEfFr8p6I8v"
   },
   "outputs": [],
   "source": [
    "# Bucle para acceder a todos los archivos de tipo \"posterior_state_9\"\n",
    "for cell in c_types:\n",
    "    cell = str(cell)\n",
    "    for chrom in chroms:\n",
    "        chrom = str(chrom)\n",
    "        \n",
    "        # Creación de una lista vacía a la que se le irán añadiendo las diferencias.\n",
    "        diff=[]\n",
    "        \n",
    "        # Se abre el archivo existente y uno nuevo en modo escritura.\n",
    "        f_pre = open('./ARCHIVOS_GRAFICA_DISTRIBUCION/'+cell+'_posterior_state_9_chr'+chrom+'.txt', 'r')\n",
    "        f_post = open('./ARCHIVOS_GRAFICA_DISTRIBUCION/'+cell+'_indice_diff_mas_032_chr'+chrom+'.txt', 'w')\n",
    "\n",
    "        # Se recorre el archivo, se calcula la resta y se añade a la lista \"diff\"\n",
    "        Data = f_pre.readlines()\n",
    "        for line in Data:\n",
    "            if line != \"\" and line[0] in \"0123456789\":    # No se contabilizan las lineas vacías\n",
    "                probs = line.strip().split(\"\\t\")          # ni aquellas que se corresponden con\n",
    "                [e1, e2] = heapq.nlargest(2, probs)       # la cabecera del archivo en vez de con\n",
    "                resta = float(e1)-float(e2)               # valores numéricos.\n",
    "                diff.append(resta)\n",
    "                \n",
    "        numero_linea = 1\n",
    "        for elemento in diff:\n",
    "            if elemento >= 0.32:\n",
    "                f_post.write(str(numero_linea)+\"\\n\")\n",
    "            numero_linea += 1\n",
    "        \n",
    "        # Se cierra el archivo\n",
    "        f_pre.close()\n",
    "        f_post.close()\n"
   ]
  }
 ],
 "metadata": {
  "colab": {
   "name": "3.Generar_archivos_indices.ipynb",
   "provenance": []
  },
  "kernelspec": {
   "display_name": "Python 3",
   "language": "python",
   "name": "python3"
  },
  "language_info": {
   "codemirror_mode": {
    "name": "ipython",
    "version": 3
   },
   "file_extension": ".py",
   "mimetype": "text/x-python",
   "name": "python",
   "nbconvert_exporter": "python",
   "pygments_lexer": "ipython3",
   "version": "3.7.4"
  }
 },
 "nbformat": 4,
 "nbformat_minor": 1
}
