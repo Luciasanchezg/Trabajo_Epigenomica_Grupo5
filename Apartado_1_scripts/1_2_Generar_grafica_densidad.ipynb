{
 "cells": [
  {
   "cell_type": "markdown",
   "metadata": {},
   "source": [
    "\n",
    "## ELECCIÓN DEL THRESHOLD\n"
   ]
  },
  {
   "cell_type": "markdown",
   "metadata": {},
   "source": [
    "Este script permite la visualización de la distribución de las diferencias entre la 2 probabilidad más altas asignadas a cada segmento por el programa __ChromHMM__ (diseñado para analizar datos de ChIP-Seq). En este caso se llevará a cabo sobre ficheros previamente filtrados con el script _\"Generar_archivos_grafica_densidad.sh\"_ que contienen solo los segmentos cuyo estado más probable es el 9. Estos deben estar contenido en una carpeta denominada \"ARCHIVOS_GRAFICA_DISTRIBUCION\" situada en el mismo directorio que este script. \n",
    "\n",
    "El objetivo es, en base a la distribución observada, establecer un valor de diferencias a partir del cual sea más probable que la asignación del estado 9 sea acertada.\n",
    "\n",
    "Posteriormente se deberá llevar a cabo un nuevo filtrado para eliminar aquellos segmentos que no superen el valor establecido.   "
   ]
  },
  {
   "cell_type": "code",
   "execution_count": 1,
   "metadata": {},
   "outputs": [],
   "source": [
    "# Importación de los paquetes necesarios\n",
    "import numpy as np\n",
    "import matplotlib.pyplot as plt\n",
    "import heapq"
   ]
  },
  {
   "cell_type": "code",
   "execution_count": 2,
   "metadata": {},
   "outputs": [],
   "source": [
    "# Generación de las listas \"c_types\" y \"chroms\" que contienen el número\n",
    "# del replicado y el número del cromosoma respectivamente para la posterior\n",
    "# realización de un bucle que permita acceder a todos los archivos de tipo\n",
    "# \"posterior_state_9\".\n",
    "c_types = [1, 2]\n",
    "chroms = list(range(1,23))\n",
    "chroms.append(\"X\")\n",
    "chroms.append(\"M\")"
   ]
  },
  {
   "cell_type": "code",
   "execution_count": 3,
   "metadata": {},
   "outputs": [],
   "source": [
    "# Creación de una lista vacía a la que se le irán añadiendo las diferencias.\n",
    "diff = []\n",
    "\n",
    "# Bucle para acceder a todos los archivos de tipo \"posterior_state_9\"\n",
    "for cell in c_types:\n",
    "    cell = str(cell)\n",
    "    for chrom in chroms:\n",
    "        chrom = str(chrom)\n",
    "        \n",
    "        # Se abre el archivo\n",
    "        f = open('./ARCHIVOS_GRAFICA_DISTRIBUCION/'+cell+'_posterior_state_9_chr'+chrom+'.txt', 'r')\n",
    "\n",
    "        # Se recorre el archivo, se calcula la resta y se añade a la lista \"diff\"\n",
    "        Data = f.readlines()\n",
    "        for line in Data:\n",
    "            if line != \"\" and line[0] in \"0123456789\":    # No se contabilizan las lineas vacías\n",
    "                probs = line.strip().split(\"\\t\")          # ni aquellas que se corresponden con\n",
    "                [e1, e2] = heapq.nlargest(2, probs)       # la cabecera del archivo en vez de con\n",
    "                resta = float(e1)-float(e2)               # valores numéricos.\n",
    "                diff.append(resta)\n",
    "        \n",
    "        # Se cierra el archivo\n",
    "        f.close()\n",
    "        \n"
   ]
  },
  {
   "cell_type": "code",
   "execution_count": 6,
   "metadata": {},
   "outputs": [
    {
     "data": {
      "image/png": "[encoded data removed]",
      "text/plain": [
       "<Figure size 432x288 with 1 Axes>"
      ]
     },
     "metadata": {
      "needs_background": "light"
     },
     "output_type": "display_data"
    },
    {
     "name": "stdout",
     "output_type": "stream",
     "text": [
      "Threshold elegido: 0.32\n"
     ]
    }
   ],
   "source": [
    "# Histograma de las diferencias.\n",
    "plot_diff = plt.hist(diff, bins=100, color= \"firebrick\")\n",
    "# Creación del array \"sumatorio\" que contiene los valores acumulados del eje Y\n",
    "# para cada valor del eje X (un total de 100).\n",
    "sumatorio = np.cumsum(plot_diff[0])\n",
    "\n",
    "# Selección de aquellas posiciones del array \"sumatorio\" cuyo valor es mayor que\n",
    "# el 15% del número de segmentos analizados (igual al número de diferencias\n",
    "# almacenadas en diff). \n",
    "Diferencias_pequeñas = np.where(sumatorio >= len(diff)*0.15)\n",
    "\n",
    "# Visualización del plot.\n",
    "plt.title(\"Distribución de diferencias\")\n",
    "plt.xlabel('diferencias')\n",
    "plt.ylabel('Cantidad')\n",
    "\n",
    "# Generación de una línea vertical en el punto del eje X en el que la cantidad\n",
    "# de datos representados a la izquierda supone un 15% del total.\n",
    "# Nota: se le suma 1 porque los índices en python comienzan con 0.\n",
    "plt.axvline(x=(Diferencias_pequeñas[0][0]+1)/len(sumatorio), alpha=0.4, color=\"black\", linestyle=\":\")\n",
    "\n",
    "plt.show()\n",
    "\n",
    "print(\"Threshold elegido:\",plot_diff[1][Diferencias_pequeñas[0][0]+1])"
   ]
  },
  {
   "cell_type": "markdown",
   "metadata": {},
   "source": [
    "## CONCLUSIÓN\n",
    "\n",
    "Se puede observar como el histograma muestra un pico a la altura del 0,3 del eje X que resulta llamativo. Se concluyó que la gran cantidad de segmentos que presentaban una diferencia próxima a 0,3 podía deberse a un artificio introducido por el procesamiendo por ChromHMM y que, por lo tanto, podían no ser diferencias reales. Por este motivo decidimos descartar el 15% de segmentos, los de menor diferencia, pues este % dejaba fuera aquellos segmentos con diferencias próximas a 0,3. En concreto se estableció el threshold en 0.32.\n"
   ]
  },
  {
   "cell_type": "code",
   "execution_count": null,
   "metadata": {},
   "outputs": [],
   "source": []
  }
 ],
 "metadata": {
  "kernelspec": {
   "display_name": "Python 3",
   "language": "python",
   "name": "python3"
  },
  "language_info": {
   "codemirror_mode": {
    "name": "ipython",
    "version": 3
   },
   "file_extension": ".py",
   "mimetype": "text/x-python",
   "name": "python",
   "nbconvert_exporter": "python",
   "pygments_lexer": "ipython3",
   "version": "3.7.3"
  }
 },
 "nbformat": 4,
 "nbformat_minor": 2
}
